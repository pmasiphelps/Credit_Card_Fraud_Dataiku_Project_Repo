{
  "nbformat": 4,
  "nbformat_minor": 0,
  "metadata": {
    "kernelspec": {
      "display_name": "Python in CPU-M-1-cpu-4Gb-Ram (builtin env)",
      "language": "python",
      "name": "py-dku-containerized-venv--cpu-m-1-cpu-4gb-ram"
    },
    "associatedRecipe": "compute_TRANSACTIONS_filtered_z_score",
    "creator": "patrick.masi-phelps@dataiku.com",
    "createdOn": 1694477647709,
    "tags": [
      "recipe-editor"
    ],
    "customFields": {}
  },
  "cells": [
    {
      "cell_type": "code",
      "metadata": {},
      "outputs": [],
      "execution_count": 0,
      "source": [
        "# -*- coding: utf-8 -*-\n",
        "import dataiku\n",
        "import pandas as pd, numpy as np\n",
        "from dataiku import pandasutils as pdu\n",
        "\n",
        "# Read recipe inputs\n",
        "TRANSACTIONS_prepared \u003d dataiku.Dataset(\"TRANSACTIONS_prepared\")\n",
        "TRANSACTIONS_prepared_df \u003d TRANSACTIONS_prepared.get_dataframe()\n",
        "\n",
        "\n",
        "TRANSACTIONS_filtered_z_score_df \u003d TRANSACTIONS_prepared_df # For this sample code, simply copy input to output\n",
        "\n",
        "\n",
        "# Write recipe outputs\n",
        "TRANSACTIONS_filtered_z_score \u003d dataiku.Dataset(\"TRANSACTIONS_filtered_z_score\")\n",
        "TRANSACTIONS_filtered_z_score.write_with_schema(TRANSACTIONS_filtered_z_score_df)"
      ]
    }
  ]
}