{
  "metadata": {
    "kernelspec": {
      "name": "py-dku-venv-py_36",
      "display_name": "Python (env py_36)",
      "language": "python"
    },
    "associatedRecipe": "compute_TRANSACTIONS_filtered_z_score",
    "creator": "patrick.masi-phelps@dataiku.com",
    "createdOn": 1694477647709,
    "tags": [
      "recipe-editor"
    ],
    "customFields": {},
    "hide_input": false,
    "modifiedBy": "patrick.masi-phelps@dataiku.com"
  },
  "nbformat": 4,
  "nbformat_minor": 1,
  "cells": [
    {
      "execution_count": 0,
      "cell_type": "code",
      "metadata": {},
      "source": [
        "# -*- coding: utf-8 -*-\nimport dataiku\nimport pandas as pd, numpy as np\nfrom dataiku import pandasutils as pdu"
      ],
      "outputs": []
    },
    {
      "execution_count": 0,
      "cell_type": "code",
      "metadata": {},
      "source": [
        "import feature_engineering "
      ],
      "outputs": []
    },
    {
      "execution_count": 0,
      "cell_type": "code",
      "metadata": {},
      "source": [
        "# Read recipe inputs\nTRANSACTIONS_prepared \u003d dataiku.Dataset(\"TRANSACTIONS_prepared\")\nTRANSACTIONS_prepared_df \u003d TRANSACTIONS_prepared.get_dataframe()"
      ],
      "outputs": []
    },
    {
      "execution_count": 0,
      "cell_type": "code",
      "metadata": {},
      "source": [
        ""
      ],
      "outputs": []
    },
    {
      "execution_count": 0,
      "cell_type": "code",
      "metadata": {},
      "source": [
        ""
      ],
      "outputs": []
    },
    {
      "execution_count": 0,
      "cell_type": "code",
      "metadata": {},
      "source": [
        ""
      ],
      "outputs": []
    },
    {
      "execution_count": 0,
      "cell_type": "code",
      "metadata": {},
      "source": [
        "\n\n# Write recipe outputs\nTRANSACTIONS_filtered_z_score \u003d dataiku.Dataset(\"TRANSACTIONS_filtered_z_score\")\nTRANSACTIONS_filtered_z_score.write_with_schema(TRANSACTIONS_filtered_z_score_df)"
      ],
      "outputs": []
    }
  ]
}