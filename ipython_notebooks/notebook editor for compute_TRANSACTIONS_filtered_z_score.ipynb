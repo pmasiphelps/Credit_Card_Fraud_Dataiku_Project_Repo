{
  "metadata": {
    "kernelspec": {
      "name": "py-dku-venv-py_36",
      "display_name": "Python (env py_36)",
      "language": "python"
    },
    "associatedRecipe": "compute_TRANSACTIONS_filtered_z_score",
    "creator": "patrick.masi-phelps@dataiku.com",
    "createdOn": 1694477647709,
    "tags": [
      "recipe-editor"
    ],
    "customFields": {},
    "hide_input": false,
    "modifiedBy": "patrick.masi-phelps@dataiku.com",
    "language_info": {
      "name": "python",
      "version": "3.6.8",
      "mimetype": "text/x-python",
      "codemirror_mode": {
        "name": "ipython",
        "version": 3
      },
      "pygments_lexer": "ipython3",
      "nbconvert_exporter": "python",
      "file_extension": ".py"
    }
  },
  "nbformat": 4,
  "nbformat_minor": 1,
  "cells": [
    {
      "execution_count": 0,
      "cell_type": "code",
      "metadata": {},
      "source": [
        "# -*- coding: utf-8 -*-\nimport dataiku\nimport pandas as pd, numpy as np\nfrom dataiku import pandasutils as pdu"
      ],
      "outputs": []
    },
    {
      "execution_count": 0,
      "cell_type": "code",
      "metadata": {},
      "source": [
        "from feature_engineering.column_transformations import filter_df_by_zscore"
      ],
      "outputs": []
    },
    {
      "execution_count": 0,
      "cell_type": "code",
      "metadata": {},
      "source": [
        "# Read recipe inputs\nTRANSACTIONS_prepared \u003d dataiku.Dataset(\"TRANSACTIONS_prepared\")\nTRANSACTIONS_prepared_df \u003d TRANSACTIONS_prepared.get_dataframe()"
      ],
      "outputs": []
    },
    {
      "execution_count": 0,
      "cell_type": "code",
      "metadata": {},
      "source": [
        "TRANSACTIONS_prepared_df \u003d filter_df_by_zscore(TRANSACTIONS_prepared_df, \"purchase_amount\", zscore_threshold \u003d 3)"
      ],
      "outputs": []
    },
    {
      "execution_count": 0,
      "cell_type": "code",
      "metadata": {},
      "source": [
        "# Write recipe outputs\nTRANSACTIONS_filtered_z_score \u003d dataiku.Dataset(\"TRANSACTIONS_filtered_z_score\")\nTRANSACTIONS_filtered_z_score.write_with_schema(TRANSACTIONS_prepared_df)"
      ],
      "outputs": []
    }
  ]
}